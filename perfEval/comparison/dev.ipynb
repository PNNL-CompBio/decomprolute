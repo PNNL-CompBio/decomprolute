{
 "cells": [
  {
   "cell_type": "code",
   "execution_count": 46,
   "id": "described-asset",
   "metadata": {},
   "outputs": [],
   "source": [
    "import numpy as np\n",
    "import scipy as sp\n",
    "import pandas as pd\n",
    "import seaborn as sns\n",
    "import matplotlib.pyplot as plt\n",
    "plt.rcParams['figure.figsize'] = [7, 5]\n",
    "plt.rcParams['figure.dpi'] = 100 # 200 e.g. is really fine, but slower\n",
    "from sklearn import metrics\n",
    "# from scipy.special import rel_entr\n",
    "from scipy.spatial.distance import jensenshannon, euclidean"
   ]
  },
  {
   "cell_type": "code",
   "execution_count": 82,
   "id": "developmental-promotion",
   "metadata": {},
   "outputs": [],
   "source": [
    "def dist(A, B, method = \"js\"):\n",
    "    aCols = list(A.columns)\n",
    "    bCols = list(B.columns)\n",
    "    aRows = list(A.index)\n",
    "    bRows = list(B.index)\n",
    "    intersectCols = list(set(aCols) & set(bCols))\n",
    "    intersectRows = list(set(aRows) & set(bRows))\n",
    "\n",
    "    A = A.loc[intersectRows, intersectCols]\n",
    "    B = B.loc[intersectRows, intersectCols]\n",
    "    A = A.fillna(0)\n",
    "    B = B.fillna(0)\n",
    "    \n",
    "    if method == 'ed':\n",
    "        distList = [ed(A[sample].to_numpy().astype(np.float32), B[sample].to_numpy().astype(np.float32))\n",
    "                    for sample in intersectCols]\n",
    "    elif method == 'js':\n",
    "        distList = [js(A[sample].to_numpy().astype(np.float32), B[sample].to_numpy().astype(np.float32))\n",
    "                    for sample in intersectCols]\n",
    "    else:\n",
    "        distList = [ks(A[sample].to_numpy().astype(np.float32), B[sample].to_numpy().astype(np.float32))\n",
    "                    for sample in intersectCols]\n",
    "    dists = pd.Series(distList)\n",
    "    dists.index = intersectCols\n",
    "    dist = np.sqrt(np.sum(dists.values ** 2))\n",
    "    return(dist)"
   ]
  },
  {
   "cell_type": "code",
   "execution_count": 83,
   "id": "demographic-notion",
   "metadata": {},
   "outputs": [],
   "source": [
    "def ed(a, b):\n",
    "    if len(a) != len(b):\n",
    "        print(\"The two arrays are not same size!\")\n",
    "    if np.sum(a) == 0 or np.sum(b) == 0:\n",
    "        return(np.nan)\n",
    "    a /= np.sum(a)\n",
    "    b /= np.sum(b)\n",
    "    dist = euclidean(a, b)\n",
    "    return(dist)\n",
    "\n",
    "\n",
    "def js(a, b):\n",
    "    if len(a) != len(b):\n",
    "        print(\"The two arrays are not same size!\")\n",
    "    if np.sum(a) == 0 or np.sum(b) == 0:\n",
    "        return(np.nan)\n",
    "    a /= np.sum(a)\n",
    "    b /= np.sum(b)\n",
    "    dist = jensenshannon(a, b)\n",
    "    return(dist)\n",
    "\n",
    "\n",
    "def ks(a, b):\n",
    "    if len(a) != len(b):\n",
    "        print(\"The two arrays are not same size!\")\n",
    "    if np.sum(a) == 0 or np.sum(b) == 0:\n",
    "        return(np.nan)     \n",
    "    a /= np.sum(a)\n",
    "    b /= np.sum(b)\n",
    "    dist = np.amax(np.abs(np.cumsum(a) - np.cumsum(b)))\n",
    "    return(dist)"
   ]
  },
  {
   "cell_type": "code",
   "execution_count": 85,
   "id": "manufactured-vatican",
   "metadata": {},
   "outputs": [],
   "source": [
    "algs = [\"cibersort\", \"mcpcounter\", \"epic\", \"xcell\"]\n",
    "sigs = [\"LM22\", \"LM7c\", \"LM9\", \"PBMC\"]\n",
    "distTypes = [\"ed\", \"js\", \"ks\"]\n",
    "cancerTypes = [\"brca\", \"ccrcc\", \"colon\", \"endometrial\", \"hnscc\", \"luad\", \"ovarian\"]\n",
    "for distType in distTypes:\n",
    "    for sig in sigs:\n",
    "        for cancerType in cancerTypes:\n",
    "            matrix = []\n",
    "            for algA in algs:\n",
    "                tempM = []\n",
    "                for algB in algs:\n",
    "                    mA = pd.read_csv(\"../fig4/data/\" + cancerType + \"-all-mrna-raw-\" + algA + \"-\" + sig + \".tsv\", sep='\\t', index_col=0)\n",
    "                    mB = pd.read_csv(\"../fig4/data/\" + cancerType + \"-all-prot-raw-\" + algB + \"-\" + sig + \".tsv\", sep='\\t', index_col=0)\n",
    "                    tempM.append(dist(mA, mB, distType))\n",
    "                matrix.append(tempM)\n",
    "            matrix = np.array(matrix)\n",
    "            ax = plt.figure()\n",
    "            ax = sns.heatmap(matrix, cmap='coolwarm', annot = True, xticklabels = algs, yticklabels = algs)\n",
    "            ax.set_title(cancerType + '-' + sig + '-' + distType)\n",
    "            ax.get_figure().savefig(distType + '-' + sig + '-' + cancerType + \".pdf\", bbox_inches='tight')\n",
    "            plt.close()"
   ]
  },
  {
   "cell_type": "code",
   "execution_count": 48,
   "id": "novel-filing",
   "metadata": {},
   "outputs": [],
   "source": []
  },
  {
   "cell_type": "code",
   "execution_count": null,
   "id": "frank-brisbane",
   "metadata": {},
   "outputs": [],
   "source": []
  }
 ],
 "metadata": {
  "kernelspec": {
   "display_name": "Python 3",
   "language": "python",
   "name": "python3"
  },
  "language_info": {
   "codemirror_mode": {
    "name": "ipython",
    "version": 3
   },
   "file_extension": ".py",
   "mimetype": "text/x-python",
   "name": "python",
   "nbconvert_exporter": "python",
   "pygments_lexer": "ipython3",
   "version": "3.8.8"
  }
 },
 "nbformat": 4,
 "nbformat_minor": 5
}
