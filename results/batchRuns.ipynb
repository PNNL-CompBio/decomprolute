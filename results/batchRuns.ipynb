{
 "cells": [
  {
   "cell_type": "markdown",
   "metadata": {},
   "source": [
    "# Get preliminary results"
   ]
  },
  {
   "cell_type": "code",
   "execution_count": 10,
   "metadata": {},
   "outputs": [],
   "source": [
    "import subprocess"
   ]
  },
  {
   "cell_type": "code",
   "execution_count": 11,
   "metadata": {},
   "outputs": [],
   "source": [
    "cancerTypes = ['brca', 'ccrcc', 'endometrial', 'colon', 'ovarian', 'luad']\n",
    "algorithms = ['cibersort', 'epic', 'xcell', 'mcpcounter']\n",
    "sigMatrices = ['LM22', 'LM7c', 'LM9', 'PBMC']"
   ]
  },
  {
   "cell_type": "code",
   "execution_count": 11,
   "metadata": {},
   "outputs": [],
   "source": [
    "for cancer in cancerTypes:\n",
    "    for algo in algorithms:\n",
    "        for sig in sigMatrices:\n",
    "            subprocess.run(['cwltool', 'eval-' + algo + '-with-correlation.cwl', \n",
    "                           '--cancerType', cancer, '--signature', '../signature_matrices/' + sig + '.txt'])\n",
    "            subprocess.run(['mv', 'corr.tsv', cancer + '-' + algo + '-' + sig + '-corr.tsv'])"
   ]
  },
  {
   "cell_type": "code",
   "execution_count": null,
   "metadata": {},
   "outputs": [],
   "source": [
    "for cancer in cancerTypes:\n",
    "    for algo in algorithms:\n",
    "        for sig in sigMatrices:\n",
    "            subprocess.run(['cwltool', 'eval-' + algo + '-with-correlationXcelltypes.cwl', \n",
    "                           '--cancerType', cancer, '--signature', '../signature_matrices/' + sig + '.txt'])\n",
    "            subprocess.run(['mv', 'corrXcelltypes.tsv', cancer + '-' + algo + '-' + sig + '-corrXcelltypes.tsv'])"
   ]
  },
  {
   "cell_type": "code",
   "execution_count": 13,
   "metadata": {},
   "outputs": [],
   "source": [
    "# cancer = 'ovarian'\n",
    "# algo = 'xcell'\n",
    "# for sig in sigMatrices:\n",
    "#     subprocess.run(['cwltool', 'eval-' + algo + '-with-correlation.cwl', \n",
    "#                            '--cancerType', cancer, '--signature', '../signature_matrices/' + sig + '.txt'])\n",
    "#     subprocess.run(['mv', 'corr.tsv', cancer + '-' + algo + '-' + sig + '-corr.tsv'])"
   ]
  },
  {
   "cell_type": "code",
   "execution_count": 3,
   "metadata": {},
   "outputs": [],
   "source": [
    "# cancer = 'luad'\n",
    "# for algo in algorithms:\n",
    "#     for sig in sigMatrices:\n",
    "#         subprocess.run(['cwltool', 'eval-' + algo + '-with-correlation.cwl', \n",
    "#                            '--cancerType', cancer, '--signature', '../signature_matrices/' + sig + '.txt'])\n",
    "#         subprocess.run(['mv', 'corr.tsv', cancer + '-' + algo + '-' + sig + '-corr.tsv'])"
   ]
  },
  {
   "cell_type": "code",
   "execution_count": 4,
   "metadata": {},
   "outputs": [],
   "source": [
    "cancerTypes = ['ccrcc', 'endometrial', 'colon', 'brca']"
   ]
  },
  {
   "cell_type": "code",
   "execution_count": 5,
   "metadata": {},
   "outputs": [],
   "source": [
    "import pandas as pd"
   ]
  },
  {
   "cell_type": "code",
   "execution_count": 6,
   "metadata": {},
   "outputs": [
    {
     "name": "stdout",
     "output_type": "stream",
     "text": [
      "cibersort does not work with brca using LM9\n"
     ]
    }
   ],
   "source": [
    "allCorr = []\n",
    "for cancer in cancerTypes:\n",
    "    cancerTable = []\n",
    "    for sig in sigMatrices:\n",
    "        algoTable = []\n",
    "        colNames = []\n",
    "        for algo in algorithms:\n",
    "            try:\n",
    "                file = cancer + '-' + algo + '-' + sig + '-corr.tsv'\n",
    "                corr = pd.read_csv(file, delimiter = '\\t', header = None, index_col = 0)\n",
    "                corr.index = [i.replace('-', '.') for i in list(corr.index)]\n",
    "                corr.name = algo\n",
    "                algoTable.append(corr)\n",
    "                colNames.append(algo)\n",
    "            except:\n",
    "                print(algo + \" does not work with \" + cancer + \" using \" + sig)\n",
    "        algoPd = pd.concat(algoTable, axis = 1)\n",
    "        algoPd.columns = colNames\n",
    "        \n",
    "    cancerTable.append(algoPd)\n",
    "allCorr.append(cancerTable)          "
   ]
  },
  {
   "cell_type": "code",
   "execution_count": 21,
   "metadata": {},
   "outputs": [],
   "source": [
    "cancer = cancerTypes[0]; sig = sigMatrices[0]; alo = algorithms[0]"
   ]
  },
  {
   "cell_type": "code",
   "execution_count": 13,
   "metadata": {},
   "outputs": [
    {
     "data": {
      "text/html": [
       "<div>\n",
       "<style scoped>\n",
       "    .dataframe tbody tr th:only-of-type {\n",
       "        vertical-align: middle;\n",
       "    }\n",
       "\n",
       "    .dataframe tbody tr th {\n",
       "        vertical-align: top;\n",
       "    }\n",
       "\n",
       "    .dataframe thead th {\n",
       "        text-align: right;\n",
       "    }\n",
       "</style>\n",
       "<table border=\"1\" class=\"dataframe\">\n",
       "  <thead>\n",
       "    <tr style=\"text-align: right;\">\n",
       "      <th></th>\n",
       "      <th>cibersort</th>\n",
       "      <th>epic</th>\n",
       "      <th>xcell</th>\n",
       "      <th>mcpcounter</th>\n",
       "    </tr>\n",
       "  </thead>\n",
       "  <tbody>\n",
       "    <tr>\n",
       "      <th>X09BR001</th>\n",
       "      <td>0.550563</td>\n",
       "      <td>0.993296</td>\n",
       "      <td>0.017180</td>\n",
       "      <td>0.687763</td>\n",
       "    </tr>\n",
       "    <tr>\n",
       "      <th>X05BR016</th>\n",
       "      <td>0.405403</td>\n",
       "      <td>0.986661</td>\n",
       "      <td>0.232551</td>\n",
       "      <td>-0.212848</td>\n",
       "    </tr>\n",
       "    <tr>\n",
       "      <th>X15BR003</th>\n",
       "      <td>0.279831</td>\n",
       "      <td>0.998849</td>\n",
       "      <td>-0.158154</td>\n",
       "      <td>-0.397997</td>\n",
       "    </tr>\n",
       "    <tr>\n",
       "      <th>X05BR026</th>\n",
       "      <td>-0.245351</td>\n",
       "      <td>0.998782</td>\n",
       "      <td>0.444962</td>\n",
       "      <td>0.518147</td>\n",
       "    </tr>\n",
       "    <tr>\n",
       "      <th>X11BR038</th>\n",
       "      <td>0.169694</td>\n",
       "      <td>0.999120</td>\n",
       "      <td>0.378362</td>\n",
       "      <td>0.293081</td>\n",
       "    </tr>\n",
       "    <tr>\n",
       "      <th>...</th>\n",
       "      <td>...</td>\n",
       "      <td>...</td>\n",
       "      <td>...</td>\n",
       "      <td>...</td>\n",
       "    </tr>\n",
       "    <tr>\n",
       "      <th>X11BR014</th>\n",
       "      <td>0.774114</td>\n",
       "      <td>0.999532</td>\n",
       "      <td>0.464865</td>\n",
       "      <td>0.866520</td>\n",
       "    </tr>\n",
       "    <tr>\n",
       "      <th>X20BR001</th>\n",
       "      <td>0.178642</td>\n",
       "      <td>0.688812</td>\n",
       "      <td>0.560944</td>\n",
       "      <td>0.798899</td>\n",
       "    </tr>\n",
       "    <tr>\n",
       "      <th>X01BR020</th>\n",
       "      <td>-0.461919</td>\n",
       "      <td>0.982867</td>\n",
       "      <td>-0.509128</td>\n",
       "      <td>-0.867694</td>\n",
       "    </tr>\n",
       "    <tr>\n",
       "      <th>X06BR014</th>\n",
       "      <td>0.813179</td>\n",
       "      <td>0.969465</td>\n",
       "      <td>0.449226</td>\n",
       "      <td>0.830412</td>\n",
       "    </tr>\n",
       "    <tr>\n",
       "      <th>X05BR045</th>\n",
       "      <td>0.095545</td>\n",
       "      <td>0.983930</td>\n",
       "      <td>-0.058005</td>\n",
       "      <td>-0.456198</td>\n",
       "    </tr>\n",
       "  </tbody>\n",
       "</table>\n",
       "<p>122 rows × 4 columns</p>\n",
       "</div>"
      ],
      "text/plain": [
       "          cibersort      epic     xcell  mcpcounter\n",
       "X09BR001   0.550563  0.993296  0.017180    0.687763\n",
       "X05BR016   0.405403  0.986661  0.232551   -0.212848\n",
       "X15BR003   0.279831  0.998849 -0.158154   -0.397997\n",
       "X05BR026  -0.245351  0.998782  0.444962    0.518147\n",
       "X11BR038   0.169694  0.999120  0.378362    0.293081\n",
       "...             ...       ...       ...         ...\n",
       "X11BR014   0.774114  0.999532  0.464865    0.866520\n",
       "X20BR001   0.178642  0.688812  0.560944    0.798899\n",
       "X01BR020  -0.461919  0.982867 -0.509128   -0.867694\n",
       "X06BR014   0.813179  0.969465  0.449226    0.830412\n",
       "X05BR045   0.095545  0.983930 -0.058005   -0.456198\n",
       "\n",
       "[122 rows x 4 columns]"
      ]
     },
     "execution_count": 13,
     "metadata": {},
     "output_type": "execute_result"
    }
   ],
   "source": [
    "algoPd"
   ]
  },
  {
   "cell_type": "code",
   "execution_count": null,
   "metadata": {},
   "outputs": [],
   "source": []
  }
 ],
 "metadata": {
  "kernelspec": {
   "display_name": "Python 3",
   "language": "python",
   "name": "python3"
  },
  "language_info": {
   "codemirror_mode": {
    "name": "ipython",
    "version": 3
   },
   "file_extension": ".py",
   "mimetype": "text/x-python",
   "name": "python",
   "nbconvert_exporter": "python",
   "pygments_lexer": "ipython3",
   "version": "3.7.9"
  }
 },
 "nbformat": 4,
 "nbformat_minor": 4
}
