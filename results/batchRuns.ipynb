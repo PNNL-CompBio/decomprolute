{
 "cells": [
  {
   "cell_type": "markdown",
   "metadata": {},
   "source": [
    "# Get preliminary results"
   ]
  },
  {
   "cell_type": "code",
   "execution_count": 7,
   "metadata": {},
   "outputs": [],
   "source": [
    "import subprocess"
   ]
  },
  {
   "cell_type": "code",
   "execution_count": 10,
   "metadata": {},
   "outputs": [],
   "source": [
    "#cancerTypes = ['brca', 'ccrcc', 'endometrial', 'colon', 'ovarian', 'luad']\n",
    "cancerTypes = ['endometrial', 'colon', 'ovarian', 'luad']\n",
    "algorithms = ['cibersort', 'epic', 'xcell', 'mcpcounter']\n",
    "sigMatrices = ['LM22', 'LM7c', 'LM9', 'PBMC']"
   ]
  },
  {
   "cell_type": "code",
   "execution_count": 11,
   "metadata": {},
   "outputs": [],
   "source": [
    "for cancer in cancerTypes:\n",
    "    for algo in algorithms:\n",
    "        for sig in sigMatrices:\n",
    "            subprocess.run(['cwltool', 'eval-' + algo + '-with-correlation.cwl', \n",
    "                           '--cancerType', cancer, '--signature', '../signature_matrices/' + sig + '.txt'])\n",
    "            subprocess.run(['mv', 'corr.tsv', cancer + '-' + algo + '-' + sig + '-corr.tsv'])"
   ]
  },
  {
   "cell_type": "code",
   "execution_count": null,
   "metadata": {},
   "outputs": [],
   "source": [
    "cancer = 'ovarian'\n",
    "algo = 'mcpcounter'\n",
    "for sig in sigMatrices:\n",
    "    subprocess.run(['cwltool', 'eval-' + algo + '-with-correlation.cwl', \n",
    "                           '--cancerType', cancer, '--signature', '../signature_matrices/' + sig + '.txt'])\n",
    "    subprocess.run(['mv', 'corr.tsv', cancer + '-' + algo + '-' + sig + '-corr.tsv'])"
   ]
  },
  {
   "cell_type": "code",
   "execution_count": null,
   "metadata": {},
   "outputs": [],
   "source": []
  }
 ],
 "metadata": {
  "kernelspec": {
   "display_name": "Python 3",
   "language": "python",
   "name": "python3"
  },
  "language_info": {
   "codemirror_mode": {
    "name": "ipython",
    "version": 3
   },
   "file_extension": ".py",
   "mimetype": "text/x-python",
   "name": "python",
   "nbconvert_exporter": "python",
   "pygments_lexer": "ipython3",
   "version": "3.7.9"
  }
 },
 "nbformat": 4,
 "nbformat_minor": 4
}
